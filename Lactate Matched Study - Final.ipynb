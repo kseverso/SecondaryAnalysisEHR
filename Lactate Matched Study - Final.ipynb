{
 "cells": [
  {
   "cell_type": "markdown",
   "metadata": {},
   "source": [
    "# Matched Study\n",
    "This script pulls and processes the data to perform analysis on the effect of vasopressin on serum lactate levels. This particular study looks at entry time to the ICU as the index time."
   ]
  },
  {
   "cell_type": "code",
   "execution_count": null,
   "metadata": {
    "collapsed": true
   },
   "outputs": [],
   "source": [
    "# Import libraries\n",
    "import numpy as np\n",
    "import pandas as pd\n",
    "import math as mt\n",
    "import matplotlib.pyplot as plt\n",
    "import psycopg2\n",
    "from scipy.stats import ks_2samp\n",
    "from scipy.stats import linregress\n",
    "from scipy.stats import ttest_ind\n",
    "from scipy.stats import chisquare\n",
    "from scipy.stats import wilcoxon\n",
    "from collections import defaultdict\n",
    "%matplotlib inline\n",
    "plt.style.use('ggplot')"
   ]
  },
  {
   "cell_type": "code",
   "execution_count": null,
   "metadata": {
    "collapsed": true
   },
   "outputs": [],
   "source": [
    "# create a database connection\n",
    "sqluser = 'KSeverson'\n",
    "dbname = 'mimic'\n",
    "schema_name = 'mimiciii'"
   ]
  },
  {
   "cell_type": "code",
   "execution_count": null,
   "metadata": {
    "collapsed": true
   },
   "outputs": [],
   "source": [
    "#change default figure size\n",
    "plt.rcParams[\"figure.figsize\"] = (10.0, 5.0)"
   ]
  },
  {
   "cell_type": "markdown",
   "metadata": {},
   "source": [
    "# Query\n",
    "Query pulls the data from the MIMIC database. This query does not retreive information about the covariates and only looks at the inclusion criteria: adult (>18 years) patients with sepsis in the MICU or SICU with lactate monitoring during the ICU stay."
   ]
  },
  {
   "cell_type": "code",
   "execution_count": null,
   "metadata": {
    "collapsed": false
   },
   "outputs": [],
   "source": [
    "# Connect to a local postgres version of mimic\n",
    "con = psycopg2.connect(dbname=dbname, user = sqluser)\n",
    "cur = con.cursor()\n",
    "cur.execute('SET search_path TO ' + schema_name)\n",
    "\n",
    "query = \\\n",
    "\"\"\"\n",
    "SELECT a.hadm_id, a.subject_id, i.icustay_id, ang.angus, i.los, l.valuenum, l.valueuom, a.hospital_expire_flag\n",
    "\t, EXTRACT (EPOCH FROM (i.intime - p.dob)/60.0/60.0/24.0/365.242) AS age_on_admit -- patient age in years\n",
    "\t, EXTRACT (EPOCH FROM (l.charttime - i.intime)/60.0/60.0) AS time_since_admit -- time in hours\n",
    "    , i.first_careunit, i.last_careunit\n",
    "    , EXTRACT (EPOCH FROM (p.dod - i.intime)/60.0/60.0) AS time_of_death -- time in hours\n",
    "FROM admissions a\n",
    "INNER JOIN patients p\n",
    "ON a.subject_id = p.subject_id\n",
    "INNER JOIN labevents l\n",
    "ON a.hadm_id = l.hadm_id\n",
    "LEFT JOIN icustays i\n",
    "ON a.hadm_id = i.hadm_id AND l.charttime BETWEEN (i.intime - '06:00:00'::interval hour) AND i.outtime -- add a buffer time region of 24 hours prior to icu admit \n",
    "LEFT JOIN angus_sepsis ang\n",
    "ON i.hadm_id = ang.hadm_id\n",
    "WHERE i.first_careunit IN ('MICU', 'SICU')\n",
    "AND i.last_careunit IN ('MICU', 'SICU')\n",
    "AND ang.angus = 1\n",
    "AND l.itemid = 50813\n",
    "ORDER BY hadm_id, time_since_admit;\n",
    "\"\"\"\n",
    "\n",
    "data = pd.read_sql_query(query,con)\n",
    "data"
   ]
  },
  {
   "cell_type": "markdown",
   "metadata": {},
   "source": [
    "# Data processing\n",
    "This section refines the inclusion criteria. Patients are required to have a lactate measurement between hours -6 and 6 and 21 and 27. If there are multiple measurements in the window, the lactate value recorded closest to hour 0 and hour 24 is preferred."
   ]
  },
  {
   "cell_type": "code",
   "execution_count": null,
   "metadata": {
    "collapsed": false
   },
   "outputs": [],
   "source": [
    "i_id = data.icustay_id #put all of the icu_stay IDs into a variable\n",
    "#find the unique IDs, their place in the array, and the number of entries for each ID\n",
    "iID_list, iID_ind, iID_count = np.unique(i_id, return_index = True, return_counts = True) "
   ]
  },
  {
   "cell_type": "code",
   "execution_count": null,
   "metadata": {
    "collapsed": false
   },
   "outputs": [],
   "source": [
    "len(iID_list) #total number of patients in initial query"
   ]
  },
  {
   "cell_type": "markdown",
   "metadata": {},
   "source": [
    "The below section sets the levels for various tuning paramaters."
   ]
  },
  {
   "cell_type": "code",
   "execution_count": null,
   "metadata": {
    "collapsed": true
   },
   "outputs": [],
   "source": [
    "time_thres = 24.0 #number of hours a patient must survive past their first lactate value and continue to have lactate monitoring"
   ]
  },
  {
   "cell_type": "code",
   "execution_count": null,
   "metadata": {
    "collapsed": true
   },
   "outputs": [],
   "source": [
    "buffer_time = 3.0 #number of hours of wiggle room"
   ]
  },
  {
   "cell_type": "code",
   "execution_count": null,
   "metadata": {
    "collapsed": true
   },
   "outputs": [],
   "source": [
    "start_monitor = 6.0 #first lactate measurement must be taken within threshold number of hours since admission"
   ]
  },
  {
   "cell_type": "code",
   "execution_count": null,
   "metadata": {
    "collapsed": false
   },
   "outputs": [],
   "source": [
    "#initialize variables\n",
    "ml = pd.DataFrame(columns = ['icu_stayID','first_lact_time','final_lact_time','initial_lact','final_lact','vasopressin','vaso_time','vaso_dose','hosp_exp'])\n",
    "remove_id = [] #list of icustays for patients who don't have the correct timing of lactate measurements\n",
    "short_lact = [] #list of icustays for patients who have only 1 lactate value\n",
    "lact_traject_time = {} #dictionary of lactate trajectories\n",
    "lact_traject_val = {} #dictionary of lactate values\n",
    "one_val = pd.DataFrame(columns = ['icu_stayID', 'lact_val']) #patients with only one lactate value\n",
    "wrong_time = pd.DataFrame(columns = ['icu_stayID', 'last_time', 'last_lact','vasopressin', 'vaso_time', 'vaso_dose','dod']) #patients who do not meet the timing requirements"
   ]
  },
  {
   "cell_type": "code",
   "execution_count": null,
   "metadata": {
    "collapsed": false
   },
   "outputs": [],
   "source": [
    "# Check inclusion criteria and populate new dataframe\n",
    "for i in range(len(iID_list)): #loop through each paitent\n",
    "    ids = iID_list[i] #select a icustay ID\n",
    "    n = iID_count[i] #find the number of entries for that ID\n",
    "    time = data.time_since_admit[iID_ind[i]:iID_ind[i]+n] #get the lactate measurement times\n",
    "    lac = data.valuenum[iID_ind[i]:iID_ind[i]+n] #get the lactate measurement value\n",
    "    dod = data.time_of_death[iID_ind[i]] #pull the dod\n",
    "    hosp_exp = data.hospital_expire_flag[iID_ind[i]] #pull the expiry flag\n",
    "    if len(lac) >= 2 and np.min(lac) > 0 and data.age_on_admit[iID_ind[i]] >= 18.0 and time.iloc[0] <= start_monitor: #inclusion criteria\n",
    "        #the above statement excludes anyone who is not an adult, doesn't have at least two values, doesn't have measurements before hour 6, \n",
    "        #or has a negative lactate value\n",
    "        #window contains all measurements between hour 21 and 27\n",
    "        window = time.loc[time > (time_thres - buffer_time)]\n",
    "        window = window.loc[window < time_thres + buffer_time]\n",
    "        if window.empty:\n",
    "            #do nothing, patient does not meet timing requirements\n",
    "            remove_id.append(ids)\n",
    "            wrong_time = wrong_time.append({'icu_stayID': ids, 'last_time': time.iloc[-1], 'last_lact': lac.iloc[-1],'vasopressin':0, 'vaso_time':0, 'vaso_dose':0, 'dod':dod},ignore_index = True)\n",
    "        else:\n",
    "            val_start = abs(time)\n",
    "            t0 = val_start.idxmin #find the time closest to 0\n",
    "            val_end = abs(window - time_thres) \n",
    "            tf = val_end.idxmin #find the time closest to 24\n",
    "            lact_traject_time[ids] = time\n",
    "            lact_traject_val[ids] = lac\n",
    "            ml = ml.append({'icu_stayID': ids, 'first_lact_time': time[t0], 'final_lact_time': time[tf], 'initial_lact': lac[t0], 'final_lact':lac[tf], 'vasopressin':0, 'vaso_time':0, 'vaso_dose':0, 'dod':dod,'hosp_exp':hosp_exp},ignore_index = True)\n",
    "            \n",
    "    elif len(lac) < 2:\n",
    "        short_lact.append(ids)\n",
    "        one_val = one_val.append({'icu_stayID': ids, 'lact_val': lac.iloc[0]},ignore_index = True)\n",
    "               \n",
    "#end loop through icustay IDs\n"
   ]
  },
  {
   "cell_type": "code",
   "execution_count": null,
   "metadata": {
    "collapsed": false
   },
   "outputs": [],
   "source": [
    "print len(ml) #patients who met inclusion criteria\n",
    "print len(remove_id) #patients who do not meet timing requirements\n",
    "print len(short_lact) #patients who have less than 2 lactate measurements"
   ]
  },
  {
   "cell_type": "code",
   "execution_count": null,
   "metadata": {
    "collapsed": false
   },
   "outputs": [],
   "source": [
    "plt.subplot(1,2,1)\n",
    "plt.hist(wrong_time.last_time, bins = np.arange(0,48))\n",
    "plt.title('Last Lact. Time')\n",
    "\n",
    "plt.subplot(1,2,2)\n",
    "plt.hist(wrong_time.loc[~np.isnan(wrong_time.last_lact)].last_lact)\n",
    "plt.title('Last Lact Value')"
   ]
  },
  {
   "cell_type": "code",
   "execution_count": null,
   "metadata": {
    "collapsed": false
   },
   "outputs": [],
   "source": [
    "plt.hist(one_val.lact_val)\n",
    "len(one_val.loc[one_val.lact_val <= 2.0])"
   ]
  },
  {
   "cell_type": "code",
   "execution_count": null,
   "metadata": {
    "collapsed": false
   },
   "outputs": [],
   "source": [
    "print min(ml.first_lact_time)\n",
    "print min(ml.final_lact_time)\n",
    "plt.subplot(1,2,1)\n",
    "plt.hist(ml.first_lact_time)\n",
    "plt.title('Distribution of first lactate measurement timing')\n",
    "plt.subplot(1,2,2)\n",
    "plt.hist(ml.final_lact_time)\n",
    "plt.title('Distribution of final lactate measurement timing')"
   ]
  },
  {
   "cell_type": "markdown",
   "metadata": {},
   "source": [
    "# Query for vasopressin information\n",
    "The below query pulls information from MIMIC concerning vasopressin administration"
   ]
  },
  {
   "cell_type": "code",
   "execution_count": null,
   "metadata": {
    "collapsed": false
   },
   "outputs": [],
   "source": [
    "# query the metavision table for the medication information\n",
    "con = psycopg2.connect(dbname=dbname, user = sqluser)\n",
    "cur = con.cursor()\n",
    "cur.execute('SET search_path TO ' + schema_name)\n",
    "\n",
    "query = \\\n",
    "\"\"\"\n",
    "SELECT icu.icustay_id, ie.itemid, d.label, ie.starttime, ie.rate, ie.rateuom, ie.amount, ie.amountuom\n",
    "     , EXTRACT (EPOCH FROM (ie.starttime - icu.intime)/60.0/60.0) AS time_since_admit -- time in hours\n",
    "FROM icustays icu\n",
    "LEFT JOIN inputevents_mv ie\n",
    "ON icu.icustay_id = ie.icustay_id\n",
    "LEFT JOIN d_items d\n",
    "ON ie.itemid = d.itemid\n",
    "WHERE ie.itemid IN (\n",
    "    222315 -- Vasopressin\n",
    "    ) \n",
    "AND ie.rate = ie.rate\n",
    "ORDER BY icu.icustay_id, ie.starttime\n",
    ";\"\"\"\n",
    "\n",
    "mvdata = pd.read_sql_query(query,con)\n",
    "#mvdata.loc[mvdata.itemid != 222315]\n",
    "mvdata.loc[mvdata.rateuom != 'units/hour']"
   ]
  },
  {
   "cell_type": "code",
   "execution_count": null,
   "metadata": {
    "collapsed": false
   },
   "outputs": [],
   "source": [
    "vaso_dose_mv = mvdata[['rate', 'rateuom']].copy()\n",
    "vaso_dose_mv['rate_fix'] = 0\n",
    "for i in range(len(vaso_dose_mv)):\n",
    "    if vaso_dose_mv.rateuom.iloc[i] == 'units/hour':\n",
    "        vaso_dose_mv.rate_fix.iloc[i] = vaso_dose_mv.rate.iloc[i]/60\n",
    "    else:\n",
    "        vaso_dose_mv.rate_fix.iloc[i] = vaso_dose_mv.rate.iloc[i]"
   ]
  },
  {
   "cell_type": "code",
   "execution_count": null,
   "metadata": {
    "collapsed": false
   },
   "outputs": [],
   "source": [
    "plt.hist(vaso_dose_mv.rate_fix, bins = np.arange(-0.005,0.11,0.01))\n",
    "plt.title('Vasopressin does in units/min in Metavision')\n",
    "print max(vaso_dose_mv.rate_fix)\n",
    "print np.median(vaso_dose_mv.rate_fix)"
   ]
  },
  {
   "cell_type": "code",
   "execution_count": null,
   "metadata": {
    "collapsed": false
   },
   "outputs": [],
   "source": [
    "plt.hist(vaso_dose_mv.rate_fix, bins = np.arange(0.1,7,0.5))\n",
    "plt.title('Vasopressin erroneous dose in units/min in Metavision')"
   ]
  },
  {
   "cell_type": "code",
   "execution_count": null,
   "metadata": {
    "collapsed": false
   },
   "outputs": [],
   "source": [
    "start_vaso = 3.0 #starting time for vasopressin window\n",
    "end_vaso = 18.0 #ending time for vasopressin window"
   ]
  },
  {
   "cell_type": "code",
   "execution_count": null,
   "metadata": {
    "collapsed": false,
    "scrolled": true
   },
   "outputs": [],
   "source": [
    "# go through all of the icustay_ids and determine if vasopressin was administered between hour 3 and 18\n",
    "# THIS ONE IS FOR METAVISION\n",
    "early_sum = 0 #store the number of patients who received vasopressin before hour 3\n",
    "late_sum = 0 #store the number of patients who received vasopressin after hour 18\n",
    "for i in ml.icu_stayID: #loop through each icustay_id\n",
    "    meds = mvdata.loc[mvdata.icustay_id == i] #get a list of the medications the patient receives\n",
    "    if not meds.empty:\n",
    "        if meds['time_since_admit'].iloc[0] < start_vaso: #float(ml.loc[ml.icu_stayID == i].first_lact_time):\n",
    "            ml = ml[ml.icu_stayID != i] #drop patients who receive vasopressin prior to lactate monitoring\n",
    "            early_sum = early_sum + 1\n",
    "        elif meds['time_since_admit'].iloc[0] > end_vaso: #float(ml.loc[ml.icu_stayID == i].first_lact_time) + 24.0:\n",
    "            ml = ml[ml.icu_stayID != i] #drop patients who start receiving vasopressin 24 hours after first lactate\n",
    "            late_sum = late_sum + 1\n",
    "        else:\n",
    "            ml.loc[ml.icu_stayID == i, 'vaso_time'] = meds['time_since_admit'].iloc[0]\n",
    "            if meds['rateuom'].iloc[0] == 'units/hour':\n",
    "                ml.loc[ml.icu_stayID == i, 'vaso_dose'] =meds['rate'].iloc[0]/60\n",
    "            else:\n",
    "                ml.loc[ml.icu_stayID == i, 'vaso_dose'] =meds['rate'].iloc[0]\n",
    "            ml.loc[ml.icu_stayID == i,'vasopressin'] = 1 #populate the data table\n",
    "              "
   ]
  },
  {
   "cell_type": "code",
   "execution_count": null,
   "metadata": {
    "collapsed": false,
    "scrolled": true
   },
   "outputs": [],
   "source": [
    "# this is the carevue version of the query\n",
    "con = psycopg2.connect(dbname=dbname, user = sqluser)\n",
    "cur = con.cursor()\n",
    "cur.execute('SET search_path TO ' + schema_name)\n",
    "\n",
    "query = \\\n",
    "\"\"\"\n",
    "SELECT icu.icustay_id, ie.itemid, d.label, ie.charttime, ie.rate, ie.rateuom\n",
    "     , EXTRACT (EPOCH FROM (ie.charttime - icu.intime)/60.0/60.0) AS time_since_admit -- time in hours\n",
    "FROM icustays icu\n",
    "LEFT JOIN inputevents_cv ie\n",
    "ON icu.icustay_id = ie.icustay_id\n",
    "LEFT JOIN d_items d\n",
    "ON ie.itemid = d.itemid\n",
    "WHERE ie.itemid IN (\n",
    "    1136, 1327, 2334, 42273, 1222, 2248, 2561, 2765, 42802, 2445, 7341, 30051, 222315 -- Vasopressin\n",
    "    ) \n",
    "AND ie.rate = ie.rate\n",
    "ORDER BY icu.icustay_id, ie.charttime\n",
    ";\"\"\"\n",
    "\n",
    "cvdata = pd.read_sql_query(query,con)\n",
    "np.unique(cvdata.rateuom)\n",
    "#cvdata.loc[cvdata.itemid != 30051] #note that only 30051 returns vasopressin results"
   ]
  },
  {
   "cell_type": "code",
   "execution_count": null,
   "metadata": {
    "collapsed": true
   },
   "outputs": [],
   "source": [
    "vaso_dose_cv = cvdata[['rate', 'rateuom']].copy()\n",
    "vaso_dose_cv['rate_fix'] = 0\n",
    "for i in range(len(vaso_dose_cv)):\n",
    "    if vaso_dose_cv.rateuom.iloc[i] == 'Uhr':\n",
    "        vaso_dose_cv.rate_fix.iloc[i] = vaso_dose_cv.rate.iloc[i]/60\n",
    "    else:\n",
    "        vaso_dose_cv.rate_fix.iloc[i] = vaso_dose_cv.rate.iloc[i]"
   ]
  },
  {
   "cell_type": "code",
   "execution_count": null,
   "metadata": {
    "collapsed": false
   },
   "outputs": [],
   "source": [
    "len(vaso_dose_cv.loc[vaso_dose_cv.rate_fix > 6].rate_fix)\n",
    "#vaso_dose_cv.loc[vaso_dose_cv.rate_fix > 2.45].rate_fix"
   ]
  },
  {
   "cell_type": "code",
   "execution_count": null,
   "metadata": {
    "collapsed": false
   },
   "outputs": [],
   "source": [
    "plt.hist(vaso_dose_cv.rate_fix, bins = np.arange(-0.005,0.11,0.01))\n",
    "plt.title('Vasopressin does in units/min in Carevue')\n",
    "max(vaso_dose_cv.rate_fix)"
   ]
  },
  {
   "cell_type": "code",
   "execution_count": null,
   "metadata": {
    "collapsed": false
   },
   "outputs": [],
   "source": [
    "plt.subplot(1,2,1)\n",
    "plt.hist(vaso_dose_cv.rate_fix, bins = np.arange(0.1,10,0.5))\n",
    "plt.title('Vasopressin erroneous dose in units/min in Carevue')\n",
    "\n",
    "plt.subplot(1,2,2)\n",
    "plt.hist(vaso_dose_cv.rate_fix, bins = np.arange(10,75,5))"
   ]
  },
  {
   "cell_type": "code",
   "execution_count": null,
   "metadata": {
    "collapsed": false
   },
   "outputs": [],
   "source": [
    "# go through all of the icustay_ids and determine if vasopressin is administered between hour 3 and 18\n",
    "# THIS ONE IS FOR CAREVUE\n",
    "cvdata = cvdata[cvdata.rate != 0] #first remove entries where no vasopressin is administered\n",
    "for i in ml.icu_stayID: #loop through each icustay_id\n",
    "    meds = cvdata.loc[cvdata.icustay_id == i] #get a list of the medications the patient receives\n",
    "    if not meds.empty:\n",
    "        if meds['time_since_admit'].iloc[0] < start_vaso: #float(ml.loc[ml.icu_stayID == i].first_lact_time):\n",
    "            ml = ml[ml.icu_stayID != i] #drop patients who receive vasopressin prior to lactate monitoring\n",
    "            early_sum = early_sum + 1\n",
    "        elif meds['time_since_admit'].iloc[0] > end_vaso: #float(ml.loc[ml.icu_stayID == i].first_lact_time) + 24.0:\n",
    "            ml = ml[ml.icu_stayID != i] #drop patients who start receiving vasopressin 24 hours after first lactate\n",
    "            late_sum = late_sum + 1\n",
    "        else:\n",
    "            ml.loc[ml.icu_stayID == i, 'vaso_time'] = meds['time_since_admit'].iloc[0]\n",
    "            if meds['rateuom'].iloc[0] == 'Uhr':\n",
    "                ml.loc[ml.icu_stayID == i, 'vaso_dose'] = meds['rate'].iloc[0]/60\n",
    "            else:\n",
    "                ml.loc[ml.icu_stayID == i, 'vaso_dose'] = meds['rate'].iloc[0]\n",
    "            ml.loc[ml.icu_stayID == i,'vasopressin'] = 1 #populate the data table\n",
    "            "
   ]
  },
  {
   "cell_type": "code",
   "execution_count": null,
   "metadata": {
    "collapsed": false
   },
   "outputs": [],
   "source": [
    "print early_sum #patients who receive vasopressin before hour 3\n",
    "print late_sum #patients who receive vasopressin after hour 18\n",
    "print len(ml) #number of patients who meet inclusion criteria"
   ]
  },
  {
   "cell_type": "code",
   "execution_count": null,
   "metadata": {
    "collapsed": false
   },
   "outputs": [],
   "source": [
    "check = ml.loc[ml.vasopressin == 1]\n",
    "binwidth = 1\n",
    "plt.hist(check.vaso_time,bins = np.arange(0,20,binwidth))\n",
    "plt.title('Time Patient First Recevies Vasopressin')\n",
    "plt.xlabel('Time since admission')\n",
    "plt.savefig('VasoTime.png')\n",
    "print len(check)\n",
    "print min(check.vaso_time)\n",
    "print max(check.vaso_time)"
   ]
  },
  {
   "cell_type": "code",
   "execution_count": null,
   "metadata": {
    "collapsed": false
   },
   "outputs": [],
   "source": [
    "plt.subplot(1,2,1)\n",
    "plt.hist(check.vaso_time, bins = np.arange(3,22,3))\n",
    "plt.title('Time of 1st Vasopressin admin.')\n",
    "plt.xlabel('Time since admit')\n",
    "plt.subplot(1,2,2)\n",
    "plt.hist(ml.first_lact_time, bins = np.arange(-6,7,0.5))\n",
    "plt.title('Time of 1st lactate measurement')\n",
    "plt.xlabel('Time since admit')\n",
    "plt.savefig('VasoAndLactTime.png')"
   ]
  },
  {
   "cell_type": "code",
   "execution_count": null,
   "metadata": {
    "collapsed": false
   },
   "outputs": [],
   "source": [
    "ml_plot = ml.loc[ml.vaso_time != 0]\n",
    "plt.plot(ml_plot['first_lact_time'],ml_plot['vaso_time'],'o')\n",
    "#plt.plot(np.arange(0,13),np.arange(0,13),'k')\n",
    "#plt.plot(np.arange(0,13),np.arange(0,13)+12.0,'k--')\n",
    "#plt.plot(np.arange(0,13),np.arange(0,13)+24.0,'k--')\n",
    "#plt.plot(np.arange(0,13),15.0*np.ones(13),'k')\n",
    "plt.xlabel('Time since admit of first lactate measurement')\n",
    "plt.ylabel('Time since admit of first vasopressin adminstration')\n",
    "#plt.ylim(-5,40)\n",
    "plt.savefig('VasoLactateTimeCorr.png')"
   ]
  },
  {
   "cell_type": "code",
   "execution_count": null,
   "metadata": {
    "collapsed": false
   },
   "outputs": [],
   "source": [
    "ml_plot['vaso_time'].min()"
   ]
  },
  {
   "cell_type": "code",
   "execution_count": null,
   "metadata": {
    "collapsed": false,
    "scrolled": false
   },
   "outputs": [],
   "source": [
    "plt.subplot(1,2,1)\n",
    "plt.hist(ml.loc[ml.vasopressin == 1].vaso_dose, bins = np.arange(0.005, 0.1, 0.01))\n",
    "plt.subplot(1,2,2)\n",
    "plt.hist(ml.loc[ml.vasopressin == 1].vaso_dose, bins = np.arange(0.5, 3, 0.25))"
   ]
  },
  {
   "cell_type": "code",
   "execution_count": null,
   "metadata": {
    "collapsed": false
   },
   "outputs": [],
   "source": [
    "bad_Id = ml.loc[ml.vaso_dose> 0.07].icu_stayID"
   ]
  },
  {
   "cell_type": "code",
   "execution_count": null,
   "metadata": {
    "collapsed": false
   },
   "outputs": [],
   "source": [
    "#plt.plot(cvdata.loc[cvdata.icustay_id == 217156].time_since_admit,cvdata.loc[cvdata.icustay_id == 217156].rate,'o-')\n",
    "plt.plot(cvdata.loc[cvdata.icustay_id == 224389].time_since_admit,cvdata.loc[cvdata.icustay_id == 224389].rate,'o-')\n",
    "plt.plot(cvdata.loc[cvdata.icustay_id == 246522].time_since_admit,cvdata.loc[cvdata.icustay_id == 246522].rate,'o-')\n",
    "plt.xlabel('Time since admission')\n",
    "plt.ylabel('Vasopressin dose (u/min)')"
   ]
  },
  {
   "cell_type": "code",
   "execution_count": null,
   "metadata": {
    "collapsed": false
   },
   "outputs": [],
   "source": [
    "plt.hist(ml.final_lact_time, bins = np.arange(21,28,1))\n",
    "plt.xlabel('Time since admit')\n",
    "plt.title('Time of lactate check point')\n",
    "print min(ml.final_lact_time)\n",
    "print max(ml.final_lact_time)\n",
    "print np.mean(ml.final_lact_time)\n",
    "print len(ml)"
   ]
  },
  {
   "cell_type": "code",
   "execution_count": null,
   "metadata": {
    "collapsed": false
   },
   "outputs": [],
   "source": [
    "plt.hist(ml.loc[ml.vasopressin == 1].final_lact_time - ml.loc[ml.vasopressin == 1].vaso_time,bins = np.arange(3,30,1))\n",
    "plt.xlabel('Time delta (hr)')\n",
    "plt.title('Time since vasopressin admin. to lactate check point')\n",
    "print max(ml.loc[ml.vasopressin == 1].final_lact_time - ml.loc[ml.vasopressin == 1].vaso_time)\n",
    "print min(ml.loc[ml.vasopressin == 1].final_lact_time - ml.loc[ml.vasopressin == 1].vaso_time)\n",
    "print np.mean(ml.loc[ml.vasopressin == 1].final_lact_time - ml.loc[ml.vasopressin == 1].vaso_time)\n",
    "print np.median(ml.loc[ml.vasopressin == 1].final_lact_time - ml.loc[ml.vasopressin == 1].vaso_time)"
   ]
  },
  {
   "cell_type": "code",
   "execution_count": null,
   "metadata": {
    "collapsed": false
   },
   "outputs": [],
   "source": [
    "ml.to_csv('matched_total_SICU_updatedTime.csv')"
   ]
  },
  {
   "cell_type": "markdown",
   "metadata": {},
   "source": [
    "# Covariate Queries\n",
    "The below queries gather the covariate information for the study. There is an intemediate step to build 'matched_cohort SICU' which is performed in a separate script."
   ]
  },
  {
   "cell_type": "code",
   "execution_count": null,
   "metadata": {
    "collapsed": false
   },
   "outputs": [],
   "source": [
    "con = psycopg2.connect(dbname=dbname, user = sqluser)\n",
    "cur = con.cursor()\n",
    "cur.execute('SET search_path TO ' + schema_name)\n",
    "\n",
    "query = \\\n",
    "\"\"\"\n",
    "SELECT l.icustay_id, i.first_careunit, aps.apsiii, l.first_lact_time, l.first_lact, l.last_lact, a.admission_type, a.admission_location\n",
    "    , l.vaso_time, p.gender, a.ethnicity, a.hospital_expire_flag\n",
    "    , EXTRACT (EPOCH FROM (i.intime - p.dob)/60.0/60.0/24.0/365.242) AS age_on_admit -- patient age in years\n",
    "    , e.renal_failure, e.liver_disease, e.congestive_heart_failure, lb.creatinine_mean, vt.heartrate_mean\n",
    "    , vt.meanbp_mean, vt.spo2_mean, vn.mechvent, ang.angus, ang.explicit_sepsis, l.vaso, det.los_hospital \n",
    "FROM matched_cohort_SICU l\n",
    "INNER JOIN icustays i\n",
    "ON l.icustay_id = i.icustay_id\n",
    "LEFT JOIN apsiii aps\n",
    "ON l.icustay_id = aps.icustay_id\n",
    "LEFT JOIN admissions a\n",
    "ON i.hadm_id = a.hadm_id\n",
    "LEFT JOIN icustay_detail det\n",
    "ON i.icustay_id = det.icustay_id\n",
    "LEFT JOIN patients p\n",
    "ON i.subject_id = p.subject_id\n",
    "LEFT JOIN elixhauser_ahrq e\n",
    "ON i.hadm_id = e.hadm_id\n",
    "LEFT JOIN angus_sepsis ang\n",
    "ON i.hadm_id = ang.hadm_id\n",
    "LEFT JOIN labsfirst3hours lb\n",
    "ON l.icustay_id = lb.icustay_id\n",
    "LEFT JOIN vitalsfirst3hours vt\n",
    "ON l.icustay_id = vt.icustay_id\n",
    "LEFT JOIN ventfirst3hours vn\n",
    "ON l.icustay_id = vn.icustay_id;\"\"\"\n",
    "\n",
    "\n",
    "data = pd.read_sql_query(query,con)\n",
    "data #expect 1310 rows"
   ]
  },
  {
   "cell_type": "code",
   "execution_count": null,
   "metadata": {
    "collapsed": true
   },
   "outputs": [],
   "source": [
    "# Initialize additional data columns\n",
    "data['Levophed'] = 0\n",
    "data['Levophed_time'] = 0\n",
    "data['LR'] = 0\n",
    "data['NS'] = 0\n",
    "data['Albumin'] = 0\n",
    "data['fio2'] = 0"
   ]
  },
  {
   "cell_type": "code",
   "execution_count": null,
   "metadata": {
    "collapsed": false
   },
   "outputs": [],
   "source": [
    "# this is the carevue version of the query\n",
    "\n",
    "con = psycopg2.connect(dbname=dbname, user = sqluser)\n",
    "cur = con.cursor()\n",
    "cur.execute('SET search_path TO ' + schema_name)\n",
    "\n",
    "query = \\\n",
    "\"\"\"\n",
    "SELECT c.icustay_id, ie.itemid, d.label, ie.charttime, ie.rate, ie.rateuom\n",
    "     , EXTRACT (EPOCH FROM (ie.charttime - icu.intime)/60.0/60.0) AS time_since_admit -- time in hours\n",
    "FROM matched_cohort_SICU c \n",
    "LEFT JOIN icustays icu\n",
    "ON c.icustay_id = icu.icustay_id\n",
    "LEFT JOIN inputevents_cv ie\n",
    "ON c.icustay_id = ie.icustay_id\n",
    "LEFT JOIN d_items d\n",
    "ON ie.itemid = d.itemid\n",
    "WHERE ie.itemid IN (\n",
    "    221906, 30047, 30120  -- Norepinephrin / Levophed\n",
    "    ) \n",
    "AND ie.rate = ie.rate\n",
    "ORDER BY c.icustay_id, ie.charttime\n",
    ";\"\"\"\n",
    "\n",
    "cvdata = pd.read_sql_query(query,con)"
   ]
  },
  {
   "cell_type": "code",
   "execution_count": null,
   "metadata": {
    "collapsed": false
   },
   "outputs": [],
   "source": [
    "# go through all of the icustay_ids and determine if levophed was administered within 3 hours\n",
    "# of arrival\n",
    "for i in data.icustay_id: #loop through each icustay_id\n",
    "    times = cvdata.loc[cvdata.icustay_id == i]\n",
    "    for k in times.time_since_admit:\n",
    "        data.loc[data.icustay_id == i, 'Levophed_time'] = times['time_since_admit'].iloc[0]\n",
    "        # test if the time is after elevated but also less than 24 hours\n",
    "        if k < 3.0: # and k <= float(data.loc[data.icustay_id == i].ele_time + 24.0):    \n",
    "              data.loc[data.icustay_id == i,'Levophed'] = 1 #populate the data table    "
   ]
  },
  {
   "cell_type": "code",
   "execution_count": null,
   "metadata": {
    "collapsed": false
   },
   "outputs": [],
   "source": [
    "# query the metavision table for the medication information\n",
    "query = \\\n",
    "\"\"\"\n",
    "SELECT c.icustay_id, ie.itemid, d.label, ie.starttime, ie.rate, ie.rateuom\n",
    "     , EXTRACT (EPOCH FROM (ie.starttime - icu.intime)/60.0/60.0) AS time_since_admit -- time in hours\n",
    "FROM matched_cohort_SICU c \n",
    "LEFT JOIN icustays icu\n",
    "ON c.icustay_id = icu.icustay_id\n",
    "LEFT JOIN inputevents_mv ie\n",
    "ON c.icustay_id = ie.icustay_id\n",
    "LEFT JOIN d_items d\n",
    "ON ie.itemid = d.itemid\n",
    "WHERE ie.itemid IN (\n",
    "    221906, 30047, 30120  -- Norepinephrin / Levophed\n",
    "    ) \n",
    "AND ie.rate = ie.rate\n",
    "ORDER BY c.icustay_id, ie.starttime\n",
    ";\"\"\"\n",
    "\n",
    "mvdata = pd.read_sql_query(query,con)"
   ]
  },
  {
   "cell_type": "code",
   "execution_count": null,
   "metadata": {
    "collapsed": true
   },
   "outputs": [],
   "source": [
    "# go through all of the icustay_ids and determine if levophed was administered within 3 hours\n",
    "# of arrival\n",
    "for i in data.icustay_id: #loop through each icustay_id\n",
    "    times = mvdata.loc[mvdata.icustay_id == i]\n",
    "    for k in times.time_since_admit:\n",
    "        # test if the time is after elevated but also less than 24 hours\n",
    "        data.loc[data.icustay_id == i, 'Levophed_time'] = times['time_since_admit'].iloc[0]\n",
    "        if k < 3.0: \n",
    "              data.loc[data.icustay_id == i,'Levophed'] = 1 #populate the data table  "
   ]
  },
  {
   "cell_type": "code",
   "execution_count": null,
   "metadata": {
    "collapsed": false
   },
   "outputs": [],
   "source": [
    "#look at Levophed vs. vasopressin times, Levophed should be administered first.\n",
    "#There are a handful of data points that appear erroneous but it is possible that they received Levophed in the ED\n",
    "time_analysis = data.loc[data.Levophed_time != 0]\n",
    "time_analysis = time_analysis.loc[time_analysis.vaso == 1]\n",
    "plt.plot(time_analysis.Levophed_time, time_analysis.vaso_time,'o')\n",
    "plt.plot(np.arange(0,21),np.arange(0,21),'k')\n",
    "plt.plot(3.0*np.ones(21),np.arange(0,21),'k')\n",
    "plt.xlabel('Levophed')\n",
    "plt.ylabel('Vasopressin')\n",
    "plt.savefig('LevoVasoTime.png')"
   ]
  },
  {
   "cell_type": "code",
   "execution_count": null,
   "metadata": {
    "collapsed": false
   },
   "outputs": [],
   "source": [
    "print len(time_analysis) #163 patients receive Levophed and vasopressin\n",
    "print len(data.loc[data.Levophed == 1]) #300 patients receive Levophed\n",
    "check = data.loc[data.vaso == 1]\n",
    "print (check.loc[check.Levophed_time == 0]) #7 patients receive vasopressin and not Levophed"
   ]
  },
  {
   "cell_type": "code",
   "execution_count": null,
   "metadata": {
    "collapsed": false
   },
   "outputs": [],
   "source": [
    "#metavision query for lactate ringers\n",
    "query = \\\n",
    "\"\"\"\n",
    "SELECT c.icustay_id, ie.itemid, d.label\n",
    "    , ie.starttime, EXTRACT (EPOCH FROM (ie.starttime - icu.intime)/60.0/60.0) AS time_since_admit -- time in hours\n",
    "    , ie.amount, ie.amountuom\n",
    "FROM matched_cohort_SICU c \n",
    "LEFT JOIN icustays icu\n",
    "ON c.icustay_id = icu.icustay_id\n",
    "INNER JOIN inputevents_mv ie\n",
    "ON c.icustay_id = ie.icustay_id\n",
    "LEFT JOIN d_items d\n",
    "ON ie.itemid = d.itemid\n",
    "WHERE ie.itemid IN (\n",
    "    225828) -- Metavision\n",
    "ORDER BY c.icustay_id, ie.starttime;\"\"\"\n",
    "\n",
    "mvfluidLR = pd.read_sql_query(query,con)\n",
    "mvfluidLR.loc[mvfluidLR.amountuom != 'ml'] #check that the units are consistent"
   ]
  },
  {
   "cell_type": "code",
   "execution_count": null,
   "metadata": {
    "collapsed": false
   },
   "outputs": [],
   "source": [
    "# go through all of the icustay_ids and determine if the patient is receiving lactate ringers\n",
    "# THIS ONE IS FOR METAVISION\n",
    "for i in data.icustay_id: #loop through each icustay_id\n",
    "    times = mvfluidLR.loc[mvfluidLR.icustay_id == i] #get the subset of data for the particular patient\n",
    "    if not times.empty:\n",
    "        data.loc[data.icustay_id == i,'LR'] = sum(times.loc[times.time_since_admit < 3.0].amount)"
   ]
  },
  {
   "cell_type": "code",
   "execution_count": null,
   "metadata": {
    "collapsed": false
   },
   "outputs": [],
   "source": [
    "#lactate ringers query for carvue\n",
    "query = \\\n",
    "\"\"\"\n",
    "SELECT c.icustay_id, ie.itemid, d.label\n",
    "    , ie.charttime, EXTRACT (EPOCH FROM (ie.charttime - icu.intime)/60.0/60.0) AS time_since_admit -- time in hours\n",
    "    , ie.amount, ie.amountuom \n",
    "FROM matched_cohort_SICU c \n",
    "LEFT JOIN icustays icu\n",
    "ON c.icustay_id = icu.icustay_id\n",
    "INNER JOIN inputevents_cv ie\n",
    "ON c.icustay_id = ie.icustay_id\n",
    "LEFT JOIN d_items d\n",
    "ON ie.itemid = d.itemid\n",
    "WHERE ie.itemid IN (\n",
    "    2971, 44184, 44367, 44521, 44815, 30021, 1634 -- Carevue\n",
    "    ) \n",
    "AND ie.amount = ie.amount\n",
    "AND ie.amount <> 0.0\n",
    "ORDER BY c.icustay_id, ie.charttime\n",
    ";\"\"\"\n",
    "\n",
    "cvfluidLR = pd.read_sql_query(query,con)\n",
    "cvfluidLR.loc[cvfluidLR.amountuom != 'ml']"
   ]
  },
  {
   "cell_type": "code",
   "execution_count": null,
   "metadata": {
    "collapsed": true
   },
   "outputs": [],
   "source": [
    "# go through all of the icustay_ids and determine if the patient is receiving lactate ringers\n",
    "# THIS ONE IS FOR CAREVUE\n",
    "for i in data.icustay_id: #loop through each icustay_id\n",
    "    times = cvfluidLR.loc[cvfluidLR.icustay_id == i] #get the subset of data for the particular patient\n",
    "    if not times.empty:\n",
    "        data.loc[data.icustay_id == i,'LR'] = sum(times.loc[times.time_since_admit < 3.0].amount)"
   ]
  },
  {
   "cell_type": "code",
   "execution_count": null,
   "metadata": {
    "collapsed": false
   },
   "outputs": [],
   "source": [
    "# metavision query for albumin\n",
    "query = \\\n",
    "\"\"\"\n",
    "SELECT c.icustay_id, ie.itemid, d.label\n",
    "    , ie.starttime, EXTRACT (EPOCH FROM (ie.starttime - icu.intime)/60.0/60.0) AS time_since_admit -- time in hours\n",
    "    , ie.amount, ie.amountuom\n",
    "FROM matched_cohort_SICU c \n",
    "LEFT JOIN icustays icu\n",
    "ON c.icustay_id = icu.icustay_id\n",
    "LEFT JOIN inputevents_mv ie\n",
    "ON c.icustay_id = ie.icustay_id\n",
    "LEFT JOIN d_items d\n",
    "ON ie.itemid = d.itemid\n",
    "WHERE ie.itemid IN (\n",
    "    227456, 220861, 220862, 220863, 220864 )-- Metavision\n",
    "ORDER BY c.icustay_id, ie.starttime;\"\"\"\n",
    "\n",
    "mvfluidAlb = pd.read_sql_query(query,con)\n",
    "mvfluidAlb.loc[mvfluidAlb.amountuom != 'ml']"
   ]
  },
  {
   "cell_type": "code",
   "execution_count": null,
   "metadata": {
    "collapsed": true
   },
   "outputs": [],
   "source": [
    "# go through all of the icustay_ids and determine if the patient is receiving lactate ringers\n",
    "# THIS ONE IS FOR CAREVUE\n",
    "for i in data.icustay_id: #loop through each icustay_id\n",
    "    times = mvfluidAlb.loc[mvfluidAlb.icustay_id == i] #get the subset of data for the particular patient\n",
    "    if not times.empty:\n",
    "        data.loc[data.icustay_id == i,'Albumin'] = sum(times.loc[times.time_since_admit < 3.0].amount)"
   ]
  },
  {
   "cell_type": "code",
   "execution_count": null,
   "metadata": {
    "collapsed": false
   },
   "outputs": [],
   "source": [
    "# carevue query for albumin\n",
    "query = \\\n",
    "\"\"\"\n",
    "SELECT c.icustay_id, ie.itemid, d.label\n",
    "    , ie.charttime, EXTRACT (EPOCH FROM (ie.charttime - icu.intime)/60.0/60.0) AS time_since_admit -- time in hours\n",
    "    , ie.amount, ie.amountuom\n",
    "FROM matched_cohort_SICU c \n",
    "LEFT JOIN icustays icu\n",
    "ON c.icustay_id = icu.icustay_id\n",
    "LEFT JOIN inputevents_cv ie\n",
    "ON c.icustay_id = ie.icustay_id\n",
    "LEFT JOIN d_items d\n",
    "ON ie.itemid = d.itemid\n",
    "WHERE ie.itemid IN (\n",
    "    1521, 46564, 43353, 30181, 30008, 30009, 44203, 43237, 3066, 42832, 45403  -- Carevue\n",
    "    ) \n",
    "AND ie.amount = ie.amount\n",
    "AND ie.amount <> 0.0\n",
    "ORDER BY c.icustay_id, ie.charttime\n",
    ";\"\"\"\n",
    "\n",
    "cvfluidAlb = pd.read_sql_query(query,con)\n",
    "cvfluidAlb.loc[cvfluidAlb.amountuom != 'ml']"
   ]
  },
  {
   "cell_type": "code",
   "execution_count": null,
   "metadata": {
    "collapsed": true
   },
   "outputs": [],
   "source": [
    "# go through all of the icustay_ids and determine if the patient is receiving lactate ringers\n",
    "# THIS ONE IS FOR CAREVUE\n",
    "for i in data.icustay_id: #loop through each icustay_id\n",
    "    times = cvfluidAlb.loc[cvfluidAlb.icustay_id == i] #get the subset of data for the particular patient\n",
    "    if not times.empty:\n",
    "        data.loc[data.icustay_id == i,'Albumin'] = sum(times.loc[times.time_since_admit < 3.0].amount)"
   ]
  },
  {
   "cell_type": "code",
   "execution_count": null,
   "metadata": {
    "collapsed": false
   },
   "outputs": [],
   "source": [
    "# metavision query for normal saline\n",
    "query = \\\n",
    "\"\"\"\n",
    "SELECT c.icustay_id, ie.itemid, d.label\n",
    "    , ie.starttime, EXTRACT (EPOCH FROM (ie.starttime - icu.intime)/60.0/60.0) AS time_since_admit -- time in hours\n",
    "    , ie.amount, ie.amountuom\n",
    "FROM matched_cohort_SICU c \n",
    "LEFT JOIN icustays icu\n",
    "ON c.icustay_id = icu.icustay_id\n",
    "LEFT JOIN inputevents_mv ie\n",
    "ON c.icustay_id = ie.icustay_id\n",
    "LEFT JOIN d_items d\n",
    "ON ie.itemid = d.itemid\n",
    "WHERE ie.itemid IN (\n",
    "    225158 )-- Metavision\n",
    "ORDER BY c.icustay_id, ie.starttime;\"\"\"\n",
    "\n",
    "mvfluidNS = pd.read_sql_query(query,con)\n",
    "mvfluidNS.loc[mvfluidNS.amountuom != 'ml']"
   ]
  },
  {
   "cell_type": "code",
   "execution_count": null,
   "metadata": {
    "collapsed": true
   },
   "outputs": [],
   "source": [
    "# go through all of the icustay_ids and determine if the patient is receiving normal saline\n",
    "# THIS ONE IS FOR metavision\n",
    "for i in data.icustay_id: #loop through each icustay_id\n",
    "    times = mvfluidNS.loc[mvfluidNS.icustay_id == i] #get the subset of data for the particular patient\n",
    "    if not times.empty:\n",
    "        data.loc[data.icustay_id == i,'NS'] = sum(times.loc[times.time_since_admit < 3.0].amount)"
   ]
  },
  {
   "cell_type": "code",
   "execution_count": null,
   "metadata": {
    "collapsed": false
   },
   "outputs": [],
   "source": [
    "#carevue query for normal saline\n",
    "query = \\\n",
    "\"\"\"\n",
    "SELECT c.icustay_id, ie.itemid, d.label\n",
    "    , ie.charttime, EXTRACT (EPOCH FROM (ie.charttime - icu.intime)/60.0/60.0) AS time_since_admit -- time in hours\n",
    "    , ie.amount, ie.amountuom\n",
    "FROM matched_cohort_SICU c \n",
    "LEFT JOIN icustays icu\n",
    "ON c.icustay_id = icu.icustay_id\n",
    "LEFT JOIN inputevents_cv ie\n",
    "ON c.icustay_id = ie.icustay_id\n",
    "LEFT JOIN d_items d\n",
    "ON ie.itemid = d.itemid\n",
    "WHERE ie.itemid IN (\n",
    "    44633, 5321, 41237, 41371, 41428, 40850, 30352, 30018, 4647, 5333, 6190, 4970, \n",
    "    5199, 41913, 40865, 44983, 30190, 44741, 41467, 45989, 41490, 44491, 41695, \n",
    "    42548, 42844, 45137, 44440 -- Carevue\n",
    "    ) \n",
    "AND ie.amount = ie.amount\n",
    "AND ie.amount <> 0.0\n",
    "ORDER BY c.icustay_id, ie.charttime\n",
    ";\"\"\"\n",
    "\n",
    "cvfluidNS = pd.read_sql_query(query,con)\n",
    "cvfluidNS.loc[cvfluidNS.amountuom != 'ml']"
   ]
  },
  {
   "cell_type": "code",
   "execution_count": null,
   "metadata": {
    "collapsed": true
   },
   "outputs": [],
   "source": [
    "# go through all of the icustay_ids and determine if the patient is receiving normal saline\n",
    "# THIS ONE IS FOR CAREVUE\n",
    "for i in data.icustay_id: #loop through each icustay_id\n",
    "    times = cvfluidNS.loc[cvfluidNS.icustay_id == i] #get the subset of data for the particular patient\n",
    "    if not times.empty:\n",
    "        data.loc[data.icustay_id == i,'NS'] = sum(times.loc[times.time_since_admit < 3.0].amount)"
   ]
  },
  {
   "cell_type": "code",
   "execution_count": null,
   "metadata": {
    "collapsed": false
   },
   "outputs": [],
   "source": [
    "# query for fi02\n",
    "query = \\\n",
    "\"\"\"\n",
    "SELECT m.icustay_id, bg.charttime, bg.fio2,\n",
    "    EXTRACT (EPOCH FROM (bg.charttime - icu.intime)/60.0/60.0) AS time_since_admit -- time in hours\n",
    "FROM matched_cohort_SICU m\n",
    "INNER JOIN bloodgasfirstday bg\n",
    "ON m.icustay_id = bg.icustay_id\n",
    "INNER JOIN icustays icu\n",
    "ON m.icustay_id = icu.icustay_id\n",
    "WHERE bg.fio2 <> 0.0\n",
    "ORDER BY m.icustay_id, bg.charttime\n",
    ";\"\"\"\n",
    "fi02data = pd.read_sql_query(query,con)"
   ]
  },
  {
   "cell_type": "code",
   "execution_count": null,
   "metadata": {
    "collapsed": false
   },
   "outputs": [],
   "source": [
    "# go through all of the icustay_ids and determine if the patient is receiving lactate ringers\n",
    "# THIS ONE IS FOR CAREVUE\n",
    "for i in data.icustay_id: #loop through each icustay_id\n",
    "    times = fi02data.loc[fi02data.icustay_id == i] #get the subset of data for the particular patient\n",
    "    if not times.loc[times.time_since_admit < 3.0].empty:\n",
    "        data.loc[data.icustay_id == i,'fio2'] = times.loc[times.time_since_admit < 3.0].fio2.mean()"
   ]
  },
  {
   "cell_type": "code",
   "execution_count": null,
   "metadata": {
    "collapsed": true
   },
   "outputs": [],
   "source": [
    "data.to_csv('basic_set_SICU.csv')"
   ]
  },
  {
   "cell_type": "code",
   "execution_count": null,
   "metadata": {
    "collapsed": false
   },
   "outputs": [],
   "source": [
    "data = pd.read_excel(open('matched_lact_all.xlsx','rb'))"
   ]
  },
  {
   "cell_type": "code",
   "execution_count": null,
   "metadata": {
    "collapsed": false
   },
   "outputs": [],
   "source": [
    "data['number_of_measurements'] = 0"
   ]
  },
  {
   "cell_type": "code",
   "execution_count": null,
   "metadata": {
    "collapsed": false
   },
   "outputs": [],
   "source": [
    "dataTraject = pd.DataFrame(columns = ['match_num','icu_stayID_vaso','icu_stayID_control','lact_change_vaso','lact_change_control','slope_vaso','slope_control'])\n",
    "match_num = 0\n",
    "for k in data.icustay_id[data.vaso == 0]:\n",
    "    match_num = match_num + 1\n",
    "    early_traject = lact_traject_val[k].loc[lact_traject_time[k] < 3.0]\n",
    "    early_time = lact_traject_time[k].loc[lact_traject_time[k] < 3.0]\n",
    "    if len(early_time) < 2:\n",
    "        lact_change = -100\n",
    "        slope = -100\n",
    "    else:\n",
    "        lact_change = early_traject.iloc[-1] - early_traject.iloc[-2]\n",
    "        slope = (early_traject.iloc[-1] - early_traject.iloc[-2])/(early_time.iloc[-1] - early_time.iloc[-2])\n",
    "    dataTraject = dataTraject.append({'match_num': match_num, 'icu_stayID_control': k, 'lact_change_control': lact_change, 'slope_control':slope },ignore_index = True)\n"
   ]
  },
  {
   "cell_type": "code",
   "execution_count": null,
   "metadata": {
    "collapsed": false
   },
   "outputs": [],
   "source": [
    "match_num = 0\n",
    "for k in data.icustay_id[data.vaso == 1]:\n",
    "    match_num = match_num + 1\n",
    "    early_traject = lact_traject_val[k].loc[lact_traject_time[k] < 3.0]\n",
    "    early_time = lact_traject_time[k].loc[lact_traject_time[k] < 3.0]\n",
    "    if len(early_time) < 2:\n",
    "        lact_change = -100\n",
    "        slope = -100\n",
    "    else:\n",
    "        lact_change = early_traject.iloc[-1] - early_traject.iloc[-2]\n",
    "        slope = (early_traject.iloc[-1] - early_traject.iloc[-2])/(early_time.iloc[-1] - early_time.iloc[-2])\n",
    "    dataTraject.loc[dataTraject.match_num == match_num,'slope_vaso'] = slope\n",
    "    dataTraject.loc[dataTraject.match_num == match_num,'lact_change_vaso'] = lact_change\n",
    "    dataTraject.loc[dataTraject.match_num == match_num,'icu_stayID_vaso'] = k"
   ]
  },
  {
   "cell_type": "code",
   "execution_count": null,
   "metadata": {
    "collapsed": false
   },
   "outputs": [],
   "source": [
    "dataTraject.to_csv('Trajectories.csv')"
   ]
  },
  {
   "cell_type": "code",
   "execution_count": null,
   "metadata": {
    "collapsed": false
   },
   "outputs": [],
   "source": [
    "for k in data.icustay_id[data.vaso == 0]:\n",
    "    plt.subplot(2,1,1)\n",
    "    plt.plot(lact_traject_time[k],lact_traject_val[k],'-')\n",
    "    plt.xlim(-6,27)\n",
    "    plt.ylim(0,15)\n",
    "for k in data.icustay_id[data.vaso == 1]:\n",
    "    plt.subplot(2,1,2)\n",
    "    plt.plot(lact_traject_time[k],lact_traject_val[k],'-')\n",
    "    plt.xlim(-6,27)\n",
    "    plt.ylim(0,15)"
   ]
  },
  {
   "cell_type": "code",
   "execution_count": null,
   "metadata": {
    "collapsed": false
   },
   "outputs": [],
   "source": [
    "for k in data.icustay_id[data.vaso == 0].iloc[:8]:\n",
    "    plt.subplot(2,1,1)\n",
    "    plt.plot(lact_traject_time[k],lact_traject_val[k],'o-')\n",
    "    plt.xlim(-6,6)\n",
    "    plt.ylim(0,10)\n",
    "for k in data.icustay_id[data.vaso == 1].iloc[:8]:\n",
    "    plt.subplot(2,1,2)\n",
    "    plt.plot(lact_traject_time[k],lact_traject_val[k],'o-')\n",
    "    plt.xlim(-6,6)\n",
    "    plt.ylim(0,10)"
   ]
  },
  {
   "cell_type": "code",
   "execution_count": null,
   "metadata": {
    "collapsed": false
   },
   "outputs": [],
   "source": [
    "line_colors = ['r', 'g', 'b', 'c', 'm', 'y', 'k','r', 'g', 'b', 'c', 'm', 'y', 'k']\n",
    "color_ind = 0\n",
    "for k in data.icustay_id[data.vaso == 0].iloc[:14]:\n",
    "    plt.subplot(2,1,1)\n",
    "    plt.plot(lact_traject_time[k],lact_traject_val[k],'o-',c = line_colors[color_ind])\n",
    "    color_ind = color_ind + 1\n",
    "    plt.xlim(-6,30)\n",
    "    plt.ylim(0,10)\n",
    "color_ind = 0\n",
    "for k in data.icustay_id[data.vaso == 1].iloc[:14]:\n",
    "    plt.subplot(2,1,2)\n",
    "    plt.plot(lact_traject_time[k],lact_traject_val[k],'o-',c = line_colors[color_ind])\n",
    "    plt.plot(data.loc[data.icustay_id == k].vaso_time,1,'s',c = line_colors[color_ind])\n",
    "    color_ind = color_ind + 1\n",
    "    plt.xlim(-6,30)\n",
    "    plt.ylim(0,10)"
   ]
  },
  {
   "cell_type": "code",
   "execution_count": null,
   "metadata": {
    "collapsed": false
   },
   "outputs": [],
   "source": [
    "skipid = []\n",
    "interval_list_tre = np.empty\n",
    "interval_list_con = np.empty\n",
    "dataCheck = pd.DataFrame(columns = ['icu_stayID','number_of_measurements','median_timing','average_timing','vaso','clear_type'])\n",
    "for k in data.icustay_id:\n",
    "    vals = (lact_traject_time[k].loc[lact_traject_time[k] < 27.0])\n",
    "    vals = vals[vals >= -6.0]\n",
    "    tot = len(vals)\n",
    "    if (data.loc[data.icustay_id == k].vaso == 1).bool():\n",
    "        interval_list_tre = np.append(interval_list_tre,np.diff(vals))\n",
    "    else:\n",
    "        interval_list_con = np.append(interval_list_con,np.diff(vals))\n",
    "    med = np.median(np.diff(vals))\n",
    "    avgt = np.mean(np.diff(vals))\n",
    "    vaso = data.vaso[data.icustay_id == k].astype(int).values\n",
    "    lact_delta = ((data.last_lact[data.icustay_id == k] - data.first_lact[data.icustay_id == k]) > 0.0).values\n",
    "    dataCheck = dataCheck.append({'icu_stayID': k, 'number_of_measurements': tot, 'median_timing': med, 'average_timing': avgt, 'vaso': vaso, 'clear_type': lact_delta},ignore_index = True)"
   ]
  },
  {
   "cell_type": "code",
   "execution_count": null,
   "metadata": {
    "collapsed": false
   },
   "outputs": [],
   "source": [
    "plt.subplot(1,2,1)\n",
    "plt.hist(dataCheck.loc[dataCheck.vaso == 1].number_of_measurements,bins = np.arange(0,27,3))\n",
    "plt.rcParams['xtick.color'] = 'k'\n",
    "plt.rcParams['ytick.color'] = 'k'\n",
    "plt.rcParams['axes.facecolor']='w'\n",
    "plt.xlabel('Number of measurements')\n",
    "plt.rcParams['axes.labelcolor'] = 'k'\n",
    "plt.rcParams['axes.edgecolor'] = 'k'\n",
    "plt.title('Treated')\n",
    "plt.ylim([0,40])\n",
    "\n",
    "\n",
    "plt.subplot(1,2,2)\n",
    "plt.hist(dataCheck.loc[dataCheck.vaso == 0].number_of_measurements,bins = np.arange(0,27,3))\n",
    "plt.title('Control')\n",
    "plt.rcParams['xtick.color'] = 'k'\n",
    "plt.rcParams['ytick.color'] = 'k'\n",
    "plt.xlabel('Number of measurements')\n",
    "plt.rcParams['axes.facecolor']='w'\n",
    "plt.rcParams['axes.labelcolor'] = 'k'\n",
    "plt.rcParams['axes.edgecolor'] = 'k'"
   ]
  },
  {
   "cell_type": "code",
   "execution_count": null,
   "metadata": {
    "collapsed": false
   },
   "outputs": [],
   "source": [
    "plt.subplot(1,2,1)\n",
    "plt.hist(dataCheck.loc[dataCheck.vaso == 1].median_timing,bins = np.arange(0,27,3))\n",
    "plt.rcParams['xtick.color'] = 'k'\n",
    "plt.rcParams['ytick.color'] = 'k'\n",
    "plt.rcParams['axes.facecolor']='w'\n",
    "plt.xlabel('Median time between measurements per patient')\n",
    "plt.rcParams['axes.labelcolor'] = 'k'\n",
    "plt.rcParams['axes.edgecolor'] = 'k'\n",
    "plt.title('Treated')\n",
    "#plt.ylim([0,40])\n",
    "\n",
    "\n",
    "plt.subplot(1,2,2)\n",
    "plt.hist(dataCheck.loc[dataCheck.vaso == 0].median_timing,bins = np.arange(0,27,3))\n",
    "plt.title('Control')\n",
    "plt.rcParams['xtick.color'] = 'k'\n",
    "plt.rcParams['ytick.color'] = 'k'\n",
    "plt.xlabel('Median time between measurements per patient')\n",
    "plt.rcParams['axes.facecolor']='w'\n",
    "plt.rcParams['axes.labelcolor'] = 'k'\n",
    "plt.rcParams['axes.edgecolor'] = 'k'"
   ]
  },
  {
   "cell_type": "code",
   "execution_count": null,
   "metadata": {
    "collapsed": false
   },
   "outputs": [],
   "source": [
    "print np.mean(dataCheck.loc[dataCheck.vaso == 0].number_of_measurements)\n",
    "print np.mean(dataCheck.loc[dataCheck.vaso == 1].number_of_measurements)\n",
    "\n",
    "print np.median(dataCheck.loc[dataCheck.vaso == 0].number_of_measurements)\n",
    "print np.median(dataCheck.loc[dataCheck.vaso == 1].number_of_measurements)\n",
    "\n",
    "print wilcoxon(np.array(dataCheck.loc[dataCheck.vaso == 1].number_of_measurements), np.array(dataCheck.loc[dataCheck.vaso == 0].number_of_measurements))\n",
    "print ttest_ind(np.array(dataCheck.loc[dataCheck.vaso == 1].number_of_measurements), np.array(dataCheck.loc[dataCheck.vaso == 0].number_of_measurements),equal_var = False)\n",
    "\n",
    "print np.median(dataCheck.loc[dataCheck.vaso == 0].median_timing)\n",
    "print np.median(dataCheck.loc[dataCheck.vaso == 1].median_timing)\n",
    "\n",
    "print wilcoxon(dataCheck.loc[dataCheck.vaso == 0].median_timing,dataCheck.loc[dataCheck.vaso == 1].median_timing)\n",
    "print ttest_ind(dataCheck.loc[dataCheck.vaso == 0].median_timing,dataCheck.loc[dataCheck.vaso == 1].median_timing)\n",
    "\n",
    "print np.mean(np.array(dataCheck.loc[dataCheck.vaso == 0].median_timing) - np.array(dataCheck.loc[dataCheck.vaso == 1].median_timing))\n",
    "\n",
    "print np.median(interval_list_tre[1:]) \n",
    "print np.median(interval_list_con[1:])"
   ]
  },
  {
   "cell_type": "code",
   "execution_count": null,
   "metadata": {
    "collapsed": false
   },
   "outputs": [],
   "source": [
    "plt.subplot(1,2,1)\n",
    "plt.hist(np.array(dataCheck.loc[dataCheck.vaso == 1].number_of_measurements) - np.array(dataCheck.loc[dataCheck.vaso == 0].number_of_measurements),bins = np.arange(-15,15,2.5))\n",
    "plt.subplot(1,2,2)\n",
    "plt.hist(np.array(dataCheck.loc[dataCheck.vaso == 0].median_timing) - np.array(dataCheck.loc[dataCheck.vaso == 1].median_timing),bins = np.arange(-25,25,5))\n",
    "np.mean(np.array(dataCheck.loc[dataCheck.vaso == 1].number_of_measurements) - np.array(dataCheck.loc[dataCheck.vaso == 0].number_of_measurements))"
   ]
  },
  {
   "cell_type": "code",
   "execution_count": null,
   "metadata": {
    "collapsed": false
   },
   "outputs": [],
   "source": [
    "plt.subplot(1,2,1)\n",
    "plt.hist(interval_list_tre[1:],bins = np.arange(0,25,2.5))\n",
    "\n",
    "plt.subplot(1,2,2)\n",
    "plt.hist(interval_list_con[1:],bins = np.arange(0,25,2.5))\n",
    "plt.ylim([0,400])"
   ]
  },
  {
   "cell_type": "code",
   "execution_count": null,
   "metadata": {
    "collapsed": false
   },
   "outputs": [],
   "source": [
    "plt.subplot(1,2,1)\n",
    "plt.hist(ml.loc[ml.icu_stayID.isin(data.icustay_id)].first_lact_time,bins = np.arange(-6,6,1))\n",
    "\n",
    "plt.subplot(1,2,2)\n",
    "plt.hist(ml.loc[ml.icu_stayID.isin(data.icustay_id)].final_lact_time,bins = np.arange(21,28))"
   ]
  },
  {
   "cell_type": "code",
   "execution_count": null,
   "metadata": {
    "collapsed": false
   },
   "outputs": [],
   "source": [
    "newframe = ml.loc[ml.icu_stayID.isin(data.icustay_id)]\n",
    "\n",
    "plt.subplot(2,2,1)\n",
    "plt.hist(newframe.loc[newframe.vasopressin == 1].first_lact_time,bins = np.arange(-6,6,1))\n",
    "plt.title('Treated')\n",
    "\n",
    "plt.subplot(2,2,3)\n",
    "plt.hist(newframe.loc[newframe.vasopressin == 1].final_lact_time,bins = np.arange(21,28))\n",
    "plt.xlabel('Time since ICU admission (hrs)')\n",
    "\n",
    "plt.subplot(2,2,2)\n",
    "plt.hist(newframe.loc[newframe.vasopressin == 0].first_lact_time,bins = np.arange(-6,6,1))\n",
    "plt.title('Control')\n",
    "\n",
    "plt.subplot(2,2,4)\n",
    "plt.hist(newframe.loc[newframe.vasopressin == 0].final_lact_time,bins = np.arange(21,28))\n",
    "plt.ylim([0,30])\n",
    "plt.xlabel('Time since ICU admission (hrs)')"
   ]
  },
  {
   "cell_type": "code",
   "execution_count": null,
   "metadata": {
    "collapsed": true
   },
   "outputs": [],
   "source": []
  }
 ],
 "metadata": {
  "kernelspec": {
   "display_name": "Python 2",
   "language": "python",
   "name": "python2"
  },
  "language_info": {
   "codemirror_mode": {
    "name": "ipython",
    "version": 2
   },
   "file_extension": ".py",
   "mimetype": "text/x-python",
   "name": "python",
   "nbconvert_exporter": "python",
   "pygments_lexer": "ipython2",
   "version": "2.7.12"
  }
 },
 "nbformat": 4,
 "nbformat_minor": 1
}
