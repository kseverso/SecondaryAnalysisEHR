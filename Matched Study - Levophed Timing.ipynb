{
 "cells": [
  {
   "cell_type": "markdown",
   "metadata": {},
   "source": [
    "# Matched Study - Sensitivity Analysis\n",
    "This analysis changes the timing criteria to consider the administration of Levophed as opposed to absolute time spent in the ICU"
   ]
  },
  {
   "cell_type": "code",
   "execution_count": null,
   "metadata": {
    "collapsed": true
   },
   "outputs": [],
   "source": [
    "# Import libraries\n",
    "import numpy as np\n",
    "import pandas as pd\n",
    "import math as mt\n",
    "import matplotlib.pyplot as plt\n",
    "import psycopg2\n",
    "from scipy.stats import ks_2samp\n",
    "from scipy.stats import linregress\n",
    "from scipy.stats import ttest_ind\n",
    "from scipy.stats import chisquare\n",
    "from collections import defaultdict\n",
    "%matplotlib inline\n",
    "plt.style.use('ggplot')"
   ]
  },
  {
   "cell_type": "code",
   "execution_count": null,
   "metadata": {
    "collapsed": true
   },
   "outputs": [],
   "source": [
    "# create a database connection\n",
    "sqluser = 'KSeverson'\n",
    "dbname = 'mimic'\n",
    "schema_name = 'mimiciii'\n",
    "\n",
    "# Connect to a local postgres version of mimic\n",
    "con = psycopg2.connect(dbname=dbname, user = sqluser)\n",
    "cur = con.cursor()\n",
    "cur.execute('SET search_path TO ' + schema_name)"
   ]
  },
  {
   "cell_type": "code",
   "execution_count": null,
   "metadata": {
    "collapsed": true
   },
   "outputs": [],
   "source": [
    "#change default figure size\n",
    "plt.rcParams[\"figure.figsize\"] = (10.0, 5.0)"
   ]
  },
  {
   "cell_type": "markdown",
   "metadata": {},
   "source": [
    "# Query\n",
    "Initial MIMIC query focusing on inclusion criteria."
   ]
  },
  {
   "cell_type": "code",
   "execution_count": null,
   "metadata": {
    "collapsed": false
   },
   "outputs": [],
   "source": [
    "query = \\\n",
    "\"\"\"\n",
    "SELECT a.hadm_id, a.subject_id, i.icustay_id, ang.angus, i.los, l.valuenum, l.valueuom, a.hospital_expire_flag\n",
    "\t, EXTRACT (EPOCH FROM (i.intime - p.dob)/60.0/60.0/24.0/365.242) AS age_on_admit -- patient age in years\n",
    "\t, EXTRACT (EPOCH FROM (l.charttime - i.intime)/60.0/60.0) AS time_since_admit -- time in hours\n",
    "    , i.first_careunit, i.last_careunit\n",
    "    , EXTRACT (EPOCH FROM (p.dod - i.intime)/60.0/60.0) AS time_of_death -- time in hours\n",
    "FROM admissions a\n",
    "INNER JOIN patients p\n",
    "ON a.subject_id = p.subject_id\n",
    "INNER JOIN labevents l\n",
    "ON a.hadm_id = l.hadm_id\n",
    "LEFT JOIN icustays i\n",
    "ON a.hadm_id = i.hadm_id AND l.charttime BETWEEN (i.intime - '06:00:00'::interval hour) AND i.outtime -- add a buffer time region of 24 hours prior to icu admit \n",
    "LEFT JOIN angus_sepsis ang\n",
    "ON i.hadm_id = ang.hadm_id\n",
    "WHERE i.first_careunit IN ('MICU', 'SICU')\n",
    "AND i.last_careunit IN ('MICU', 'SICU')\n",
    "AND ang.angus = 1\n",
    "AND l.itemid = 50813\n",
    "ORDER BY hadm_id, time_since_admit;\n",
    "\"\"\"\n",
    "\n",
    "data = pd.read_sql_query(query,con)"
   ]
  },
  {
   "cell_type": "code",
   "execution_count": null,
   "metadata": {
    "collapsed": false
   },
   "outputs": [],
   "source": [
    "# query the metavision table for the medication information\n",
    "query = \\\n",
    "\"\"\"\n",
    "SELECT icu.icustay_id, ie.itemid, d.label, ie.starttime, ie.rate, ie.rateuom\n",
    "     , EXTRACT (EPOCH FROM (ie.starttime - icu.intime)/60.0/60.0) AS time_since_admit -- time in hours\n",
    "FROM icustays icu\n",
    "LEFT JOIN inputevents_mv ie\n",
    "ON icu.icustay_id = ie.icustay_id\n",
    "LEFT JOIN d_items d\n",
    "ON ie.itemid = d.itemid\n",
    "WHERE ie.itemid IN (\n",
    "    221906, 30047, 30120  -- Norepinephrin / Levophed\n",
    "    ) \n",
    "AND ie.rate = ie.rate\n",
    "ORDER BY icu.icustay_id, ie.starttime\n",
    ";\"\"\"\n",
    "\n",
    "mvLevo = pd.read_sql_query(query,con)"
   ]
  },
  {
   "cell_type": "code",
   "execution_count": null,
   "metadata": {
    "collapsed": true
   },
   "outputs": [],
   "source": [
    "# this is the carevue version of the query\n",
    "query = \\\n",
    "\"\"\"\n",
    "SELECT c.icustay_id, ie.itemid, d.label, ie.charttime, ie.rate, ie.rateuom\n",
    "     , EXTRACT (EPOCH FROM (ie.charttime - icu.intime)/60.0/60.0) AS time_since_admit -- time in hours\n",
    "FROM matched_cohort_SICU c \n",
    "LEFT JOIN icustays icu\n",
    "ON c.icustay_id = icu.icustay_id\n",
    "LEFT JOIN inputevents_cv ie\n",
    "ON c.icustay_id = ie.icustay_id\n",
    "LEFT JOIN d_items d\n",
    "ON ie.itemid = d.itemid\n",
    "WHERE ie.itemid IN (\n",
    "    221906, 30047, 30120  -- Norepinephrin / Levophed\n",
    "    ) \n",
    "AND ie.rate = ie.rate\n",
    "ORDER BY c.icustay_id, ie.charttime\n",
    ";\"\"\"\n",
    "\n",
    "cvLevo = pd.read_sql_query(query,con)"
   ]
  },
  {
   "cell_type": "markdown",
   "metadata": {},
   "source": [
    "# Data Processing\n",
    "This section applies the rest of the inclusion criteria."
   ]
  },
  {
   "cell_type": "code",
   "execution_count": null,
   "metadata": {
    "collapsed": true
   },
   "outputs": [],
   "source": [
    "i_id = data.icustay_id #put all of the icu_stay IDs into a variable\n",
    "#find the unique IDs, their place in the array, and the number of entries for each ID\n",
    "iID_list, iID_ind, iID_count = np.unique(i_id, return_index = True, return_counts = True) "
   ]
  },
  {
   "cell_type": "code",
   "execution_count": null,
   "metadata": {
    "collapsed": false
   },
   "outputs": [],
   "source": [
    "len(iID_list) #total number of patients in initial query"
   ]
  },
  {
   "cell_type": "code",
   "execution_count": null,
   "metadata": {
    "collapsed": true
   },
   "outputs": [],
   "source": [
    "start_levo = 6.0"
   ]
  },
  {
   "cell_type": "code",
   "execution_count": null,
   "metadata": {
    "collapsed": false
   },
   "outputs": [],
   "source": [
    "time_thres = 24.0"
   ]
  },
  {
   "cell_type": "code",
   "execution_count": null,
   "metadata": {
    "collapsed": true
   },
   "outputs": [],
   "source": [
    "buffer_time = 3.0"
   ]
  },
  {
   "cell_type": "code",
   "execution_count": null,
   "metadata": {
    "collapsed": true
   },
   "outputs": [],
   "source": [
    "#initialize variables\n",
    "ml = pd.DataFrame(columns = ['icu_stayID','first_lact_time','final_lact_time','initial_lact','final_lact','levo_time','vasopressin','vaso_time','vaso_dose','hosp_exp'])\n",
    "remove_id = [] #list of icustays for patients who don't have the correct timing of lactate measurements\n",
    "short_lact = [] #list of icustays for patients who have only 1 lactate value\n",
    "lact_traject_time = {} #dictionary of lactate trajectories\n",
    "lact_traject_val = {} #dictionary of lactate values\n",
    "#one_val = pd.DataFrame(columns = ['icu_stayID', 'lact_val']) #patients with only one lactate value\n",
    "#wrong_time = pd.DataFrame(columns = ['icu_stayID', 'last_time', 'last_lact','vasopressin', 'vaso_time', 'vaso_dose','dod']) #patients who do not meet the timing requirements"
   ]
  },
  {
   "cell_type": "code",
   "execution_count": null,
   "metadata": {
    "collapsed": false
   },
   "outputs": [],
   "source": [
    "# Check inclusion criteria and populate new dataframe\n",
    "for i in range(len(iID_list)): #loop through each paitent\n",
    "    ids = iID_list[i] #select a icustay ID\n",
    "    n = iID_count[i] #find the number of entries for that ID\n",
    "    time = data.time_since_admit[iID_ind[i]:iID_ind[i]+n] #get the lactate measurement times\n",
    "    lac = data.valuenum[iID_ind[i]:iID_ind[i]+n] #get the lactate measurement value\n",
    "    dod = data.time_of_death[iID_ind[i]] #pull the dod\n",
    "    hosp_exp = data.hospital_expire_flag[iID_ind[i]] #pull the expiry flag\n",
    "    #find if the patient is in the metavision or carevue results for Levophed\n",
    "    #first check metavision\n",
    "    if not mvLevo.loc[mvLevo.icustay_id == ids].time_since_admit.empty and len(lac) >= 2 and data.age_on_admit[iID_ind[i]] >= 18.0: #test if array is empty\n",
    "        \n",
    "        mv_time = min(mvLevo.loc[mvLevo.icustay_id == ids].time_since_admit)\n",
    "        start_window = time.loc[time - mv_time <  buffer_time]\n",
    "        start_window = start_window.loc[time - mv_time > -0.5]\n",
    "        if start_window.empty or mv_time > start_levo:\n",
    "            remove_id.append(ids) #no lactate monitoring when patient receives Levophed\n",
    "        else:\n",
    "            t0_ind = start_window.idxmin()\n",
    "            t0 = time[t0_ind]\n",
    "            window = time.loc[(time - mv_time) >= (time_thres - buffer_time)]\n",
    "            window = window.loc[(time - mv_time) <= (time_thres + buffer_time)]\n",
    "            if window.empty:\n",
    "                remove_id.append(ids)\n",
    "            else:\n",
    "                val_end = abs(window - time_thres)\n",
    "                tf = val_end.idxmin()\n",
    "                lact_traject_time[ids] = time\n",
    "                lact_traject_val[ids] = lac\n",
    "                ml = ml.append({'icu_stayID': ids, 'first_lact_time': t0, 'final_lact_time': time[tf], 'initial_lact':lac[t0_ind], 'final_lact':lac[tf], 'levo_time': mv_time, 'vasopressin':0, 'vaso_time':0, 'vaso_dose':0, 'hosp_exp':hosp_exp}, ignore_index = True)\n",
    "    \n",
    "    elif not cvLevo.loc[cvLevo.icustay_id == ids].time_since_admit.empty and len(lac) >= 2 and data.age_on_admit[iID_ind[i]] >= 18.0: #test if array is empty\n",
    "        \n",
    "        cv_time = min(cvLevo.loc[cvLevo.icustay_id == ids].time_since_admit)\n",
    "        start_window = time.loc[time - cv_time <  buffer_time]\n",
    "        start_window = start_window.loc[time - cv_time > -0.5]\n",
    "        if start_window.empty or cv_time > start_levo:\n",
    "            remove_id.append(ids) #no lactate monitoring when patient receives Levophed\n",
    "        else:\n",
    "            t0_ind = start_window.idxmin()\n",
    "            t0 = time[t0_ind]\n",
    "            window = time.loc[(time - cv_time) >= (time_thres - buffer_time)]\n",
    "            window = window.loc[(time - cv_time) <= (time_thres + buffer_time)]\n",
    "            if window.empty:\n",
    "                remove_id.append(ids)\n",
    "            else:\n",
    "                val_end = abs(window - time_thres)\n",
    "                tf = val_end.idxmin()\n",
    "                lact_traject_time[ids] = time\n",
    "                lact_traject_val[ids] = lac\n",
    "                ml = ml.append({'icu_stayID': ids, 'first_lact_time': t0, 'final_lact_time': time[tf], 'initial_lact':lac[t0_ind], 'final_lact':lac[tf], 'levo_time': cv_time, 'vasopressin':0, 'vaso_time':0, 'vaso_dose':0, 'hosp_exp':hosp_exp}, ignore_index = True)\n",
    "                \n",
    "#end loop through icustay IDs"
   ]
  },
  {
   "cell_type": "code",
   "execution_count": null,
   "metadata": {
    "collapsed": false
   },
   "outputs": [],
   "source": [
    "plt.subplot(1,3,1)\n",
    "plt.hist(ml.levo_time)\n",
    "plt.title('Levophed Started')\n",
    "plt.xlabel('Time since admit (hrs)')\n",
    "\n",
    "plt.subplot(1,3,2)\n",
    "plt.hist(ml.first_lact_time - ml.levo_time)\n",
    "plt.title('Relative lactate start time')\n",
    "plt.xlabel('Time since admit (hrs)')\n",
    "\n",
    "plt.subplot(1,3,3)\n",
    "plt.hist(ml.first_lact_time)\n",
    "plt.title('Lactate start time')\n",
    "plt.xlabel('Time since admit (hrs)')\n",
    "\n",
    "print len(ml)\n",
    "print min(ml.levo_time)\n",
    "print max(ml.levo_time)\n",
    "print max(ml.first_lact_time)"
   ]
  },
  {
   "cell_type": "code",
   "execution_count": null,
   "metadata": {
    "collapsed": false
   },
   "outputs": [],
   "source": [
    "plt.subplot(1,2,1)\n",
    "plt.hist(ml.final_lact_time - ml.levo_time)\n",
    "plt.title('Final lactate measurement relative to Levophed start')\n",
    "plt.xlabel('Time since admit (hrs)')\n",
    "\n",
    "plt.subplot(1,2,2)\n",
    "plt.hist(ml.final_lact_time)\n",
    "plt.title('Final lactate measurement')\n",
    "plt.xlabel('Time since admit (hrs)')\n",
    "\n",
    "print min(ml.final_lact_time - ml.levo_time)\n",
    "print max(ml.final_lact_time - ml.levo_time)"
   ]
  },
  {
   "cell_type": "code",
   "execution_count": null,
   "metadata": {
    "collapsed": false
   },
   "outputs": [],
   "source": [
    "plt.plot(ml.levo_time,ml.first_lact_time,'o')\n",
    "plt.plot(np.arange(-1,9),np.arange(-1,9),'k')\n",
    "plt.plot(np.arange(-1,9),np.arange(-1,9) - 0.5, 'k--')\n",
    "plt.plot(np.arange(-1,9),np.arange(-1,9) + 3.0, 'k--')\n",
    "plt.xlabel('Time levophed is first administered')\n",
    "plt.ylabel('Time of recorded lactate measurement')"
   ]
  },
  {
   "cell_type": "code",
   "execution_count": null,
   "metadata": {
    "collapsed": false
   },
   "outputs": [],
   "source": [
    "for k in ml.icu_stayID:\n",
    "    plt.plot(lact_traject_time[k],lact_traject_val[k],'o-')\n",
    "    plt.xlim(-6,30)\n",
    "    plt.ylim(0,20)"
   ]
  },
  {
   "cell_type": "markdown",
   "metadata": {},
   "source": [
    "# Query for vasopressin information\n",
    "The below query pulls information from MIMIC concerning vasopressin administration"
   ]
  },
  {
   "cell_type": "code",
   "execution_count": null,
   "metadata": {
    "collapsed": true
   },
   "outputs": [],
   "source": [
    "# query the metavision table for the medication information\n",
    "con = psycopg2.connect(dbname=dbname, user = sqluser)\n",
    "cur = con.cursor()\n",
    "cur.execute('SET search_path TO ' + schema_name)\n",
    "\n",
    "query = \\\n",
    "\"\"\"\n",
    "SELECT icu.icustay_id, ie.itemid, d.label, ie.starttime, ie.rate, ie.rateuom, ie.amount, ie.amountuom\n",
    "     , EXTRACT (EPOCH FROM (ie.starttime - icu.intime)/60.0/60.0) AS time_since_admit -- time in hours\n",
    "FROM icustays icu\n",
    "LEFT JOIN inputevents_mv ie\n",
    "ON icu.icustay_id = ie.icustay_id\n",
    "LEFT JOIN d_items d\n",
    "ON ie.itemid = d.itemid\n",
    "WHERE ie.itemid IN (\n",
    "    222315 -- Vasopressin\n",
    "    ) \n",
    "AND ie.rate = ie.rate\n",
    "ORDER BY icu.icustay_id, ie.starttime\n",
    ";\"\"\"\n",
    "\n",
    "vaso_data = pd.read_sql_query(query,con)"
   ]
  },
  {
   "cell_type": "code",
   "execution_count": null,
   "metadata": {
    "collapsed": true
   },
   "outputs": [],
   "source": [
    "start_vaso = 3.0 #starting time for vasopressin window\n",
    "end_vaso = 18.0 #ending time for vasopressin window"
   ]
  },
  {
   "cell_type": "code",
   "execution_count": null,
   "metadata": {
    "collapsed": true
   },
   "outputs": [],
   "source": [
    "# go through all of the icustay_ids and determine if vasopressin was administered between hour 3 and 18\n",
    "# THIS ONE IS FOR METAVISION\n",
    "early_sum = 0 #store the number of patients who received vasopressin before hour 3\n",
    "late_sum = 0 #store the number of patients who received vasopressin after hour 18\n",
    "for i in ml.icu_stayID: #loop through each icustay_id\n",
    "    meds = vaso_data.loc[vaso_data.icustay_id == i] #get a list of the medications the patient receives\n",
    "    if not meds.empty:\n",
    "        if meds['time_since_admit'].iloc[0] < start_vaso: #float(ml.loc[ml.icu_stayID == i].first_lact_time):\n",
    "            ml = ml[ml.icu_stayID != i] #drop patients who receive vasopressin prior to lactate monitoring\n",
    "            early_sum = early_sum + 1\n",
    "        elif meds['time_since_admit'].iloc[0] > end_vaso: #float(ml.loc[ml.icu_stayID == i].first_lact_time) + 24.0:\n",
    "            ml = ml[ml.icu_stayID != i] #drop patients who start receiving vasopressin 24 hours after first lactate\n",
    "            late_sum = late_sum + 1\n",
    "        else:\n",
    "            ml.loc[ml.icu_stayID == i, 'vaso_time'] = meds['time_since_admit'].iloc[0]\n",
    "            if meds['rateuom'].iloc[0] == 'units/hour':\n",
    "                ml.loc[ml.icu_stayID == i, 'vaso_dose'] =meds['rate'].iloc[0]/60\n",
    "            else:\n",
    "                ml.loc[ml.icu_stayID == i, 'vaso_dose'] =meds['rate'].iloc[0]\n",
    "            ml.loc[ml.icu_stayID == i,'vasopressin'] = 1 #populate the data table\n",
    "              "
   ]
  },
  {
   "cell_type": "code",
   "execution_count": null,
   "metadata": {
    "collapsed": false
   },
   "outputs": [],
   "source": [
    "print early_sum\n",
    "print late_sum"
   ]
  },
  {
   "cell_type": "code",
   "execution_count": null,
   "metadata": {
    "collapsed": false
   },
   "outputs": [],
   "source": [
    "# this is the carevue version of the query\n",
    "con = psycopg2.connect(dbname=dbname, user = sqluser)\n",
    "cur = con.cursor()\n",
    "cur.execute('SET search_path TO ' + schema_name)\n",
    "\n",
    "query = \\\n",
    "\"\"\"\n",
    "SELECT icu.icustay_id, ie.itemid, d.label, ie.charttime, ie.rate, ie.rateuom\n",
    "     , EXTRACT (EPOCH FROM (ie.charttime - icu.intime)/60.0/60.0) AS time_since_admit -- time in hours\n",
    "FROM icustays icu\n",
    "LEFT JOIN inputevents_cv ie\n",
    "ON icu.icustay_id = ie.icustay_id\n",
    "LEFT JOIN d_items d\n",
    "ON ie.itemid = d.itemid\n",
    "WHERE ie.itemid IN (\n",
    "    1136, 1327, 2334, 42273, 1222, 2248, 2561, 2765, 42802, 2445, 7341, 30051, 222315 -- Vasopressin\n",
    "    ) \n",
    "AND ie.rate = ie.rate\n",
    "ORDER BY icu.icustay_id, ie.charttime\n",
    ";\"\"\"\n",
    "\n",
    "vaso_data = pd.read_sql_query(query,con)\n",
    "np.unique(vaso_data.rateuom)\n",
    "#cvdata.loc[cvdata.itemid != 30051] #note that only 30051 returns vasopressin results"
   ]
  },
  {
   "cell_type": "code",
   "execution_count": null,
   "metadata": {
    "collapsed": true
   },
   "outputs": [],
   "source": [
    "# go through all of the icustay_ids and determine if vasopressin is administered between hour 3 and 18\n",
    "# THIS ONE IS FOR CAREVUE\n",
    "vaso_data = vaso_data[vaso_data.rate != 0] #first remove entries where no vasopressin is administered\n",
    "for i in ml.icu_stayID: #loop through each icustay_id\n",
    "    meds = vaso_data.loc[vaso_data.icustay_id == i] #get a list of the medications the patient receives\n",
    "    if not meds.empty:\n",
    "        if meds['time_since_admit'].iloc[0] < start_vaso: #float(ml.loc[ml.icu_stayID == i].first_lact_time):\n",
    "            ml = ml[ml.icu_stayID != i] #drop patients who receive vasopressin prior to lactate monitoring\n",
    "            early_sum = early_sum + 1\n",
    "        elif meds['time_since_admit'].iloc[0] > end_vaso: #float(ml.loc[ml.icu_stayID == i].first_lact_time) + 24.0:\n",
    "            ml = ml[ml.icu_stayID != i] #drop patients who start receiving vasopressin 24 hours after first lactate\n",
    "            late_sum = late_sum + 1\n",
    "        else:\n",
    "            ml.loc[ml.icu_stayID == i, 'vaso_time'] = meds['time_since_admit'].iloc[0]\n",
    "            if meds['rateuom'].iloc[0] == 'Uhr':\n",
    "                ml.loc[ml.icu_stayID == i, 'vaso_dose'] = meds['rate'].iloc[0]/60\n",
    "            else:\n",
    "                ml.loc[ml.icu_stayID == i, 'vaso_dose'] = meds['rate'].iloc[0]\n",
    "            ml.loc[ml.icu_stayID == i,'vasopressin'] = 1 #populate the data table\n",
    "            "
   ]
  },
  {
   "cell_type": "code",
   "execution_count": null,
   "metadata": {
    "collapsed": false
   },
   "outputs": [],
   "source": [
    "print early_sum\n",
    "print late_sum"
   ]
  },
  {
   "cell_type": "code",
   "execution_count": null,
   "metadata": {
    "collapsed": false
   },
   "outputs": [],
   "source": [
    "print len(ml)\n",
    "print sum(ml.vasopressin)\n",
    "\n",
    "plt.hist(ml.loc[ml.vaso_time != 0.0].vaso_time)\n",
    "plt.xlabel('Vasopressin time since admit (hrs)')"
   ]
  },
  {
   "cell_type": "code",
   "execution_count": null,
   "metadata": {
    "collapsed": false
   },
   "outputs": [],
   "source": [
    "plt.subplot(1,3,1)\n",
    "plt.plot(ml.first_lact_time,ml.levo_time,'o')\n",
    "plt.xlabel('First lactate')\n",
    "plt.ylabel('Levo time')\n",
    "\n",
    "plt.subplot(1,3,2)\n",
    "plt.plot(ml.loc[ml.vaso_time != 0.0].first_lact_time,ml.loc[ml.vaso_time != 0.0].vaso_time,'o')\n",
    "plt.xlabel('First lactate')\n",
    "plt.ylabel('Vaso time')\n",
    "\n",
    "plt.subplot(1,3,3)\n",
    "plt.plot(ml.loc[ml.vaso_time != 0.0].levo_time,ml.loc[ml.vaso_time != 0.0].vaso_time,'o')\n",
    "plt.plot(np.arange(-1,20),np.arange(-1,20),'k')\n",
    "plt.xlim(-1,6)\n",
    "plt.xlabel('Levo time')\n",
    "plt.ylabel('Vaso time')"
   ]
  },
  {
   "cell_type": "code",
   "execution_count": null,
   "metadata": {
    "collapsed": true
   },
   "outputs": [],
   "source": [
    "ml.to_csv('matched_total_LevoTiming.csv')"
   ]
  },
  {
   "cell_type": "markdown",
   "metadata": {},
   "source": [
    "# Covariate Queries\n",
    "The below queries gather the covariate information for the study. There is an intemediate step to build 'matched_cohort SICU' which is performed in a separate script."
   ]
  },
  {
   "cell_type": "code",
   "execution_count": null,
   "metadata": {
    "collapsed": false
   },
   "outputs": [],
   "source": [
    "con = psycopg2.connect(dbname=dbname, user = sqluser)\n",
    "cur = con.cursor()\n",
    "cur.execute('SET search_path TO ' + schema_name)\n",
    "\n",
    "query = \\\n",
    "\"\"\"\n",
    "SELECT l.icustay_id, i.first_careunit, aps.apsiii, l.first_lact_time, l.first_lact, l.last_lact, l.levo_time\n",
    "    , a.admission_type, a.admission_location\n",
    "    , l.vaso_time, p.gender, a.ethnicity, a.hospital_expire_flag\n",
    "    , EXTRACT (EPOCH FROM (i.intime - p.dob)/60.0/60.0/24.0/365.242) AS age_on_admit -- patient age in years\n",
    "    , e.renal_failure, e.liver_disease, e.congestive_heart_failure, lb.creatinine_mean, vt.heartrate_mean\n",
    "    , vt.meanbp_mean, vt.spo2_mean, vn.mechvent, ang.angus, ang.explicit_sepsis, l.vaso, det.los_hospital --, bg.fio2\n",
    "FROM matched_cohort_LevoTime l\n",
    "INNER JOIN icustays i\n",
    "ON l.icustay_id = i.icustay_id\n",
    "LEFT JOIN apsiii_first3hours aps\n",
    "ON l.icustay_id = aps.icustay_id\n",
    "LEFT JOIN admissions a\n",
    "ON i.hadm_id = a.hadm_id\n",
    "LEFT JOIN icustay_detail det\n",
    "ON i.icustay_id = det.icustay_id\n",
    "LEFT JOIN patients p\n",
    "ON i.subject_id = p.subject_id\n",
    "LEFT JOIN elixhauser_ahrq e\n",
    "ON i.hadm_id = e.hadm_id\n",
    "LEFT JOIN angus_sepsis ang\n",
    "ON i.hadm_id = ang.hadm_id\n",
    "LEFT JOIN labsfirst3hours lb\n",
    "ON l.icustay_id = lb.icustay_id\n",
    "LEFT JOIN vitalsfirst3hours vt\n",
    "ON l.icustay_id = vt.icustay_id\n",
    "LEFT JOIN ventfirst3hours vn\n",
    "ON l.icustay_id = vn.icustay_id;\"\"\"\n",
    "#WHERE l.clear_int != 2;\"\"\"\n",
    "#LEFT JOIN bloodgasfirstday bg\n",
    "#ON l.icustay_id = bg.icustay_id;\"\"\"\n",
    "\n",
    "data = pd.read_sql_query(query,con)\n",
    "data #expect 268 rows"
   ]
  },
  {
   "cell_type": "code",
   "execution_count": null,
   "metadata": {
    "collapsed": true
   },
   "outputs": [],
   "source": [
    "# Initialize additional data columns\n",
    "data['NS'] = 0\n",
    "data['fio2'] = 0"
   ]
  },
  {
   "cell_type": "code",
   "execution_count": null,
   "metadata": {
    "collapsed": false
   },
   "outputs": [],
   "source": [
    "# metavision query for normal saline\n",
    "query = \\\n",
    "\"\"\"\n",
    "SELECT c.icustay_id, ie.itemid, d.label\n",
    "    , ie.starttime, EXTRACT (EPOCH FROM (ie.starttime - icu.intime)/60.0/60.0) AS time_since_admit -- time in hours\n",
    "    , ie.amount, ie.amountuom\n",
    "FROM matched_cohort_LevoTime c \n",
    "LEFT JOIN icustays icu\n",
    "ON c.icustay_id = icu.icustay_id\n",
    "LEFT JOIN inputevents_mv ie\n",
    "ON c.icustay_id = ie.icustay_id\n",
    "LEFT JOIN d_items d\n",
    "ON ie.itemid = d.itemid\n",
    "WHERE ie.itemid IN (\n",
    "    225158 )-- Metavision\n",
    "ORDER BY c.icustay_id, ie.starttime;\"\"\"\n",
    "\n",
    "mvfluidNS = pd.read_sql_query(query,con)\n",
    "mvfluidNS.loc[mvfluidNS.amountuom != 'ml']"
   ]
  },
  {
   "cell_type": "code",
   "execution_count": null,
   "metadata": {
    "collapsed": true
   },
   "outputs": [],
   "source": [
    "# go through all of the icustay_ids and determine if the patient is receiving normal saline\n",
    "# THIS ONE IS FOR metavision\n",
    "for i in data.icustay_id: #loop through each icustay_id\n",
    "    times = mvfluidNS.loc[mvfluidNS.icustay_id == i] #get the subset of data for the particular patient\n",
    "    if not times.empty:\n",
    "        data.loc[data.icustay_id == i,'NS'] = sum(times.loc[times.time_since_admit < 3.0].amount)"
   ]
  },
  {
   "cell_type": "code",
   "execution_count": null,
   "metadata": {
    "collapsed": false
   },
   "outputs": [],
   "source": [
    "#carevue query for normal saline\n",
    "query = \\\n",
    "\"\"\"\n",
    "SELECT c.icustay_id, ie.itemid, d.label\n",
    "    , ie.charttime, EXTRACT (EPOCH FROM (ie.charttime - icu.intime)/60.0/60.0) AS time_since_admit -- time in hours\n",
    "    , ie.amount, ie.amountuom\n",
    "FROM matched_cohort_LevoTime c \n",
    "LEFT JOIN icustays icu\n",
    "ON c.icustay_id = icu.icustay_id\n",
    "LEFT JOIN inputevents_cv ie\n",
    "ON c.icustay_id = ie.icustay_id\n",
    "LEFT JOIN d_items d\n",
    "ON ie.itemid = d.itemid\n",
    "WHERE ie.itemid IN (\n",
    "    44633, 5321, 41237, 41371, 41428, 40850, 30352, 30018, 4647, 5333, 6190, 4970, \n",
    "    5199, 41913, 40865, 44983, 30190, 44741, 41467, 45989, 41490, 44491, 41695, \n",
    "    42548, 42844, 45137, 44440 -- Carevue\n",
    "    ) \n",
    "AND ie.amount = ie.amount\n",
    "AND ie.amount <> 0.0\n",
    "ORDER BY c.icustay_id, ie.charttime\n",
    ";\"\"\"\n",
    "\n",
    "cvfluidNS = pd.read_sql_query(query,con)\n",
    "cvfluidNS.loc[cvfluidNS.amountuom != 'ml']"
   ]
  },
  {
   "cell_type": "code",
   "execution_count": null,
   "metadata": {
    "collapsed": true
   },
   "outputs": [],
   "source": [
    "# go through all of the icustay_ids and determine if the patient is receiving normal saline\n",
    "# THIS ONE IS FOR CAREVUE\n",
    "for i in data.icustay_id: #loop through each icustay_id\n",
    "    times = cvfluidNS.loc[cvfluidNS.icustay_id == i] #get the subset of data for the particular patient\n",
    "    if not times.empty:\n",
    "        data.loc[data.icustay_id == i,'NS'] = sum(times.loc[times.time_since_admit < 3.0].amount)"
   ]
  },
  {
   "cell_type": "code",
   "execution_count": null,
   "metadata": {
    "collapsed": false
   },
   "outputs": [],
   "source": [
    "# query for fi02\n",
    "query = \\\n",
    "\"\"\"\n",
    "SELECT m.icustay_id, bg.charttime, bg.fio2,\n",
    "    EXTRACT (EPOCH FROM (bg.charttime - icu.intime)/60.0/60.0) AS time_since_admit -- time in hours\n",
    "FROM matched_cohort_LevoTime m\n",
    "INNER JOIN bloodgasfirstday bg\n",
    "ON m.icustay_id = bg.icustay_id\n",
    "INNER JOIN icustays icu\n",
    "ON m.icustay_id = icu.icustay_id\n",
    "WHERE bg.fio2 <> 0.0\n",
    "ORDER BY m.icustay_id, bg.charttime\n",
    ";\"\"\"\n",
    "fi02data = pd.read_sql_query(query,con)\n"
   ]
  },
  {
   "cell_type": "code",
   "execution_count": null,
   "metadata": {
    "collapsed": true
   },
   "outputs": [],
   "source": [
    "# go through all of the icustay_ids and determine if the patient is receiving lactate ringers\n",
    "# THIS ONE IS FOR CAREVUE\n",
    "for i in data.icustay_id: #loop through each icustay_id\n",
    "    times = fi02data.loc[fi02data.icustay_id == i] #get the subset of data for the particular patient\n",
    "    if not times.loc[times.time_since_admit < 3.0].empty:\n",
    "        data.loc[data.icustay_id == i,'fio2'] = times.loc[times.time_since_admit < 3.0].fio2.mean()"
   ]
  },
  {
   "cell_type": "code",
   "execution_count": null,
   "metadata": {
    "collapsed": true
   },
   "outputs": [],
   "source": [
    "data.to_csv('basic_set_LevoTime_APS3.csv')"
   ]
  }
 ],
 "metadata": {
  "kernelspec": {
   "display_name": "Python 2",
   "language": "python",
   "name": "python2"
  },
  "language_info": {
   "codemirror_mode": {
    "name": "ipython",
    "version": 2
   },
   "file_extension": ".py",
   "mimetype": "text/x-python",
   "name": "python",
   "nbconvert_exporter": "python",
   "pygments_lexer": "ipython2",
   "version": "2.7.12"
  }
 },
 "nbformat": 4,
 "nbformat_minor": 1
}
